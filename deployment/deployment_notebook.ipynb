{
 "cells": [
  {
   "cell_type": "code",
   "execution_count": 7,
   "id": "6ca75d42",
   "metadata": {},
   "outputs": [
    {
     "name": "stdout",
     "output_type": "stream",
     "text": [
      "Requirement already satisfied: tqdm in /home/ec2-user/anaconda3/envs/python3/lib/python3.6/site-packages (4.62.3)\n",
      "Requirement already satisfied: requests in /home/ec2-user/anaconda3/envs/python3/lib/python3.6/site-packages (2.26.0)\n",
      "Requirement already satisfied: idna<4,>=2.5 in /home/ec2-user/anaconda3/envs/python3/lib/python3.6/site-packages (from requests) (3.1)\n",
      "Requirement already satisfied: charset-normalizer~=2.0.0 in /home/ec2-user/anaconda3/envs/python3/lib/python3.6/site-packages (from requests) (2.0.9)\n",
      "Requirement already satisfied: urllib3<1.27,>=1.21.1 in /home/ec2-user/anaconda3/envs/python3/lib/python3.6/site-packages (from requests) (1.26.8)\n",
      "Requirement already satisfied: certifi>=2017.4.17 in /home/ec2-user/anaconda3/envs/python3/lib/python3.6/site-packages (from requests) (2021.5.30)\n",
      "Requirement already satisfied: requests-aws4auth in /home/ec2-user/anaconda3/envs/python3/lib/python3.6/site-packages (1.1.2)\n",
      "Requirement already satisfied: six in /home/ec2-user/anaconda3/envs/python3/lib/python3.6/site-packages (from requests-aws4auth) (1.15.0)\n",
      "Requirement already satisfied: requests in /home/ec2-user/anaconda3/envs/python3/lib/python3.6/site-packages (from requests-aws4auth) (2.26.0)\n",
      "Requirement already satisfied: charset-normalizer~=2.0.0 in /home/ec2-user/anaconda3/envs/python3/lib/python3.6/site-packages (from requests->requests-aws4auth) (2.0.9)\n",
      "Requirement already satisfied: idna<4,>=2.5 in /home/ec2-user/anaconda3/envs/python3/lib/python3.6/site-packages (from requests->requests-aws4auth) (3.1)\n",
      "Requirement already satisfied: certifi>=2017.4.17 in /home/ec2-user/anaconda3/envs/python3/lib/python3.6/site-packages (from requests->requests-aws4auth) (2021.5.30)\n",
      "Requirement already satisfied: urllib3<1.27,>=1.21.1 in /home/ec2-user/anaconda3/envs/python3/lib/python3.6/site-packages (from requests->requests-aws4auth) (1.26.8)\n",
      "Requirement already satisfied: sagemaker>=2.0.0<3.0.0 in /home/ec2-user/anaconda3/envs/python3/lib/python3.6/site-packages (2.86.2)\n",
      "Requirement already satisfied: google-pasta in /home/ec2-user/anaconda3/envs/python3/lib/python3.6/site-packages (from sagemaker>=2.0.0<3.0.0) (0.2.0)\n",
      "Requirement already satisfied: packaging>=20.0 in /home/ec2-user/anaconda3/envs/python3/lib/python3.6/site-packages (from sagemaker>=2.0.0<3.0.0) (21.3)\n",
      "Requirement already satisfied: boto3>=1.20.21 in /home/ec2-user/anaconda3/envs/python3/lib/python3.6/site-packages (from sagemaker>=2.0.0<3.0.0) (1.21.42)\n",
      "Requirement already satisfied: importlib-metadata>=1.4.0 in /home/ec2-user/anaconda3/envs/python3/lib/python3.6/site-packages (from sagemaker>=2.0.0<3.0.0) (3.7.0)\n",
      "Requirement already satisfied: smdebug-rulesconfig==1.0.1 in /home/ec2-user/anaconda3/envs/python3/lib/python3.6/site-packages (from sagemaker>=2.0.0<3.0.0) (1.0.1)\n",
      "Requirement already satisfied: pathos in /home/ec2-user/anaconda3/envs/python3/lib/python3.6/site-packages (from sagemaker>=2.0.0<3.0.0) (0.2.8)\n",
      "Requirement already satisfied: pandas in /home/ec2-user/anaconda3/envs/python3/lib/python3.6/site-packages (from sagemaker>=2.0.0<3.0.0) (1.1.5)\n",
      "Requirement already satisfied: protobuf3-to-dict>=0.1.5 in /home/ec2-user/anaconda3/envs/python3/lib/python3.6/site-packages (from sagemaker>=2.0.0<3.0.0) (0.1.5)\n",
      "Requirement already satisfied: numpy>=1.9.0 in /home/ec2-user/anaconda3/envs/python3/lib/python3.6/site-packages (from sagemaker>=2.0.0<3.0.0) (1.19.5)\n",
      "Requirement already satisfied: protobuf>=3.1 in /home/ec2-user/anaconda3/envs/python3/lib/python3.6/site-packages (from sagemaker>=2.0.0<3.0.0) (3.15.2)\n",
      "Requirement already satisfied: attrs==20.3.0 in /home/ec2-user/anaconda3/envs/python3/lib/python3.6/site-packages (from sagemaker>=2.0.0<3.0.0) (20.3.0)\n",
      "Requirement already satisfied: s3transfer<0.6.0,>=0.5.0 in /home/ec2-user/anaconda3/envs/python3/lib/python3.6/site-packages (from boto3>=1.20.21->sagemaker>=2.0.0<3.0.0) (0.5.0)\n",
      "Requirement already satisfied: jmespath<2.0.0,>=0.7.1 in /home/ec2-user/anaconda3/envs/python3/lib/python3.6/site-packages (from boto3>=1.20.21->sagemaker>=2.0.0<3.0.0) (0.10.0)\n",
      "Requirement already satisfied: botocore<1.25.0,>=1.24.42 in /home/ec2-user/anaconda3/envs/python3/lib/python3.6/site-packages (from boto3>=1.20.21->sagemaker>=2.0.0<3.0.0) (1.24.42)\n",
      "Requirement already satisfied: zipp>=0.5 in /home/ec2-user/anaconda3/envs/python3/lib/python3.6/site-packages (from importlib-metadata>=1.4.0->sagemaker>=2.0.0<3.0.0) (3.4.0)\n",
      "Requirement already satisfied: typing-extensions>=3.6.4 in /home/ec2-user/anaconda3/envs/python3/lib/python3.6/site-packages (from importlib-metadata>=1.4.0->sagemaker>=2.0.0<3.0.0) (4.0.1)\n",
      "Requirement already satisfied: pyparsing!=3.0.5,>=2.0.2 in /home/ec2-user/anaconda3/envs/python3/lib/python3.6/site-packages (from packaging>=20.0->sagemaker>=2.0.0<3.0.0) (2.4.7)\n",
      "Requirement already satisfied: six>=1.9 in /home/ec2-user/anaconda3/envs/python3/lib/python3.6/site-packages (from protobuf>=3.1->sagemaker>=2.0.0<3.0.0) (1.15.0)\n",
      "Requirement already satisfied: python-dateutil>=2.7.3 in /home/ec2-user/anaconda3/envs/python3/lib/python3.6/site-packages (from pandas->sagemaker>=2.0.0<3.0.0) (2.8.1)\n",
      "Requirement already satisfied: pytz>=2017.2 in /home/ec2-user/anaconda3/envs/python3/lib/python3.6/site-packages (from pandas->sagemaker>=2.0.0<3.0.0) (2021.1)\n",
      "Requirement already satisfied: pox>=0.3.0 in /home/ec2-user/anaconda3/envs/python3/lib/python3.6/site-packages (from pathos->sagemaker>=2.0.0<3.0.0) (0.3.0)\n",
      "Requirement already satisfied: dill>=0.3.4 in /home/ec2-user/anaconda3/envs/python3/lib/python3.6/site-packages (from pathos->sagemaker>=2.0.0<3.0.0) (0.3.4)\n",
      "Requirement already satisfied: multiprocess>=0.70.12 in /home/ec2-user/anaconda3/envs/python3/lib/python3.6/site-packages (from pathos->sagemaker>=2.0.0<3.0.0) (0.70.12.2)\n",
      "Requirement already satisfied: ppft>=1.6.6.4 in /home/ec2-user/anaconda3/envs/python3/lib/python3.6/site-packages (from pathos->sagemaker>=2.0.0<3.0.0) (1.6.6.4)\n",
      "Requirement already satisfied: urllib3<1.27,>=1.25.4 in /home/ec2-user/anaconda3/envs/python3/lib/python3.6/site-packages (from botocore<1.25.0,>=1.24.42->boto3>=1.20.21->sagemaker>=2.0.0<3.0.0) (1.26.8)\n",
      "Requirement already satisfied: install in /home/ec2-user/anaconda3/envs/python3/lib/python3.6/site-packages (1.3.5)\n",
      "Requirement already satisfied: transformers[tensorflow] in /home/ec2-user/anaconda3/envs/python3/lib/python3.6/site-packages (4.18.0)\n",
      "\u001b[33mWARNING: transformers 4.18.0 does not provide the extra 'tensorflow'\u001b[0m\n",
      "Requirement already satisfied: pyyaml>=5.1 in /home/ec2-user/anaconda3/envs/python3/lib/python3.6/site-packages (from transformers[tensorflow]) (5.4.1)\n",
      "Requirement already satisfied: importlib-metadata in /home/ec2-user/anaconda3/envs/python3/lib/python3.6/site-packages (from transformers[tensorflow]) (3.7.0)\n",
      "Requirement already satisfied: packaging>=20.0 in /home/ec2-user/anaconda3/envs/python3/lib/python3.6/site-packages (from transformers[tensorflow]) (21.3)\n",
      "Requirement already satisfied: tqdm>=4.27 in /home/ec2-user/anaconda3/envs/python3/lib/python3.6/site-packages (from transformers[tensorflow]) (4.62.3)\n",
      "Requirement already satisfied: requests in /home/ec2-user/anaconda3/envs/python3/lib/python3.6/site-packages (from transformers[tensorflow]) (2.26.0)\n",
      "Requirement already satisfied: sacremoses in /home/ec2-user/anaconda3/envs/python3/lib/python3.6/site-packages (from transformers[tensorflow]) (0.0.53)\n",
      "Requirement already satisfied: numpy>=1.17 in /home/ec2-user/anaconda3/envs/python3/lib/python3.6/site-packages (from transformers[tensorflow]) (1.19.5)\n",
      "Requirement already satisfied: filelock in /home/ec2-user/anaconda3/envs/python3/lib/python3.6/site-packages (from transformers[tensorflow]) (3.0.12)\n",
      "Requirement already satisfied: regex!=2019.12.17 in /home/ec2-user/anaconda3/envs/python3/lib/python3.6/site-packages (from transformers[tensorflow]) (2020.11.13)\n",
      "Requirement already satisfied: tokenizers!=0.11.3,<0.13,>=0.11.1 in /home/ec2-user/anaconda3/envs/python3/lib/python3.6/site-packages (from transformers[tensorflow]) (0.12.1)\n",
      "Requirement already satisfied: huggingface-hub<1.0,>=0.1.0 in /home/ec2-user/anaconda3/envs/python3/lib/python3.6/site-packages (from transformers[tensorflow]) (0.4.0)\n",
      "Requirement already satisfied: dataclasses in /home/ec2-user/anaconda3/envs/python3/lib/python3.6/site-packages (from transformers[tensorflow]) (0.8)\n",
      "Requirement already satisfied: typing-extensions>=3.7.4.3 in /home/ec2-user/anaconda3/envs/python3/lib/python3.6/site-packages (from huggingface-hub<1.0,>=0.1.0->transformers[tensorflow]) (4.0.1)\n",
      "Requirement already satisfied: pyparsing!=3.0.5,>=2.0.2 in /home/ec2-user/anaconda3/envs/python3/lib/python3.6/site-packages (from packaging>=20.0->transformers[tensorflow]) (2.4.7)\n",
      "Requirement already satisfied: zipp>=0.5 in /home/ec2-user/anaconda3/envs/python3/lib/python3.6/site-packages (from importlib-metadata->transformers[tensorflow]) (3.4.0)\n",
      "Requirement already satisfied: charset-normalizer~=2.0.0 in /home/ec2-user/anaconda3/envs/python3/lib/python3.6/site-packages (from requests->transformers[tensorflow]) (2.0.9)\n",
      "Requirement already satisfied: certifi>=2017.4.17 in /home/ec2-user/anaconda3/envs/python3/lib/python3.6/site-packages (from requests->transformers[tensorflow]) (2021.5.30)\n",
      "Requirement already satisfied: idna<4,>=2.5 in /home/ec2-user/anaconda3/envs/python3/lib/python3.6/site-packages (from requests->transformers[tensorflow]) (3.1)\n",
      "Requirement already satisfied: urllib3<1.27,>=1.21.1 in /home/ec2-user/anaconda3/envs/python3/lib/python3.6/site-packages (from requests->transformers[tensorflow]) (1.26.8)\n",
      "Requirement already satisfied: joblib in /home/ec2-user/anaconda3/envs/python3/lib/python3.6/site-packages (from sacremoses->transformers[tensorflow]) (1.0.1)\n",
      "Requirement already satisfied: click in /home/ec2-user/anaconda3/envs/python3/lib/python3.6/site-packages (from sacremoses->transformers[tensorflow]) (7.1.2)\n",
      "Requirement already satisfied: six in /home/ec2-user/anaconda3/envs/python3/lib/python3.6/site-packages (from sacremoses->transformers[tensorflow]) (1.15.0)\n"
     ]
    }
   ],
   "source": [
    "#Install tqdm to have progress bar\n",
    "!pip install tqdm\n",
    "\n",
    "!pip install requests\n",
    "!pip install requests-aws4auth\n",
    "!pip install \"sagemaker>=2.0.0<3.0.0\"\n",
    "\n",
    "!pip install install transformers[tensorflow]\n",
    "!pip install -q sagemaker-experiments==0.1.13\n"
   ]
  },
  {
   "cell_type": "code",
   "execution_count": 1,
   "id": "b6b7c227",
   "metadata": {},
   "outputs": [],
   "source": [
    "#Set up ipywigets \n",
    "#%%capture\n",
    "import boto3\n",
    "import sagemaker\n",
    "from sagemaker import get_execution_role\n",
    "import numpy as np\n",
    "import json\n",
    "\n",
    "\n"
   ]
  },
  {
   "cell_type": "code",
   "execution_count": 2,
   "id": "e86c4f18",
   "metadata": {},
   "outputs": [
    {
     "name": "stderr",
     "output_type": "stream",
     "text": [
      "Couldn't call 'get_role' to get Role ARN from role name charlie to get Role path.\n"
     ]
    },
    {
     "ename": "ValueError",
     "evalue": "The current AWS identity is not a role: arn:aws:iam::708362204001:user/charlie, therefore it cannot be used as a SageMaker execution role",
     "output_type": "error",
     "traceback": [
      "\u001b[0;31m---------------------------------------------------------------------------\u001b[0m",
      "\u001b[0;31mValueError\u001b[0m                                Traceback (most recent call last)",
      "Cell \u001b[0;32mIn[2], line 4\u001b[0m\n\u001b[1;32m      1\u001b[0m \u001b[39m#Get execution roles \u001b[39;00m\n\u001b[1;32m      2\u001b[0m \u001b[39m##The following line WILL NOT RUN outside of sagemaker notebook! It uses the notebook IAM to do deployments and invoke endpoints. \u001b[39;00m\n\u001b[1;32m      3\u001b[0m \u001b[39m##This can be replaced with other IAM role setups with boto3, but this is more involved and I cannot do it on infra I do not have acess to \u001b[39;00m\n\u001b[0;32m----> 4\u001b[0m role \u001b[39m=\u001b[39m get_execution_role()\n\u001b[1;32m      6\u001b[0m s3_resource \u001b[39m=\u001b[39m boto3\u001b[39m.\u001b[39mresource(\u001b[39m\"\u001b[39m\u001b[39ms3\u001b[39m\u001b[39m\"\u001b[39m)\n\u001b[1;32m      7\u001b[0m s3 \u001b[39m=\u001b[39m boto3\u001b[39m.\u001b[39mclient(\u001b[39m'\u001b[39m\u001b[39ms3\u001b[39m\u001b[39m'\u001b[39m)\n",
      "File \u001b[0;32m~/anaconda3/envs/pytorch_test/lib/python3.9/site-packages/sagemaker/session.py:5874\u001b[0m, in \u001b[0;36mget_execution_role\u001b[0;34m(sagemaker_session)\u001b[0m\n\u001b[1;32m   5869\u001b[0m     \u001b[39mreturn\u001b[39;00m arn\n\u001b[1;32m   5870\u001b[0m message \u001b[39m=\u001b[39m (\n\u001b[1;32m   5871\u001b[0m     \u001b[39m\"\u001b[39m\u001b[39mThe current AWS identity is not a role: \u001b[39m\u001b[39m{}\u001b[39;00m\u001b[39m, therefore it cannot be used as a \u001b[39m\u001b[39m\"\u001b[39m\n\u001b[1;32m   5872\u001b[0m     \u001b[39m\"\u001b[39m\u001b[39mSageMaker execution role\u001b[39m\u001b[39m\"\u001b[39m\n\u001b[1;32m   5873\u001b[0m )\n\u001b[0;32m-> 5874\u001b[0m \u001b[39mraise\u001b[39;00m \u001b[39mValueError\u001b[39;00m(message\u001b[39m.\u001b[39mformat(arn))\n",
      "\u001b[0;31mValueError\u001b[0m: The current AWS identity is not a role: arn:aws:iam::708362204001:user/charlie, therefore it cannot be used as a SageMaker execution role"
     ]
    }
   ],
   "source": [
    "#Get execution roles \n",
    "##The following line WILL NOT RUN outside of sagemaker notebook! It uses the notebook IAM to do deployments and invoke endpoints. \n",
    "##This can be replaced with other IAM role setups with boto3, but this is more involved and I cannot do it on infra I do not have acess to \n",
    "role = get_execution_role()\n",
    "\n",
    "s3_resource = boto3.resource(\"s3\")\n",
    "s3 = boto3.client('s3')\n",
    "\n",
    "print(f'SageMaker SDK Version: {sagemaker.__version__}')"
   ]
  },
  {
   "cell_type": "code",
   "execution_count": 4,
   "id": "ff9a79e7",
   "metadata": {},
   "outputs": [],
   "source": [
    "#Defining default bucket for SageMaker pretrained model hosting\n",
    "sagemaker_session = sagemaker.Session()"
   ]
  },
  {
   "cell_type": "code",
   "execution_count": 5,
   "id": "f014e0dd",
   "metadata": {},
   "outputs": [],
   "source": [
    "##########\n",
    "##########\n",
    "\n",
    "#Deploy documentation generation API "
   ]
  },
  {
   "cell_type": "code",
   "execution_count": 9,
   "id": "062b1115",
   "metadata": {},
   "outputs": [],
   "source": [
    "from sagemaker.estimator import Estimator\n",
    "\n",
    "hyperparameters = {\"train-steps\": 100}\n",
    "\n",
    "#time.sleep(500)\n",
    "\n",
    "estimator_unattatched = Estimator(\n",
    "role=role,\n",
    "instance_count=1,\n",
    "instance_type=\"ml.c4.xlarge\",\n",
    "image_uri=\"708362204001.dkr.ecr.us-east-2.amazonaws.com/documentation-generation-api:latest\",\n",
    "hyperparameters=hyperparameters,\n",
    ")\n"
   ]
  },
  {
   "cell_type": "code",
   "execution_count": 10,
   "id": "7bcd7b41",
   "metadata": {},
   "outputs": [
    {
     "name": "stdout",
     "output_type": "stream",
     "text": [
      "2023-01-10 20:28:20 Starting - Starting the training job...\n",
      "2023-01-10 20:28:43 Starting - Preparing the instances for trainingProfilerReport-1673382500: InProgress\n",
      "......\n",
      "2023-01-10 20:29:43 Downloading - Downloading input data...\n",
      "2023-01-10 20:30:04 Training - Downloading the training image......\n",
      "2023-01-10 20:31:04 Training - Training image download completed. Training in progress..\u001b[34mthis is a training script!\u001b[0m\n",
      "\n",
      "2023-01-10 20:31:44 Uploading - Uploading generated training model\n",
      "2023-01-10 20:31:44 Completed - Training job completed\n",
      "Training seconds: 117\n",
      "Billable seconds: 117\n"
     ]
    }
   ],
   "source": [
    "##Deploying model requires an attatched train job, \n",
    "##for first run just hack by running empty train script with random file \n",
    "estimator_unattatched.fit(\"<s3 path to a text file with anything in it>\")"
   ]
  },
  {
   "cell_type": "code",
   "execution_count": null,
   "id": "c101d13b",
   "metadata": {},
   "outputs": [
    {
     "name": "stdout",
     "output_type": "stream",
     "text": [
      "---------------------------"
     ]
    }
   ],
   "source": [
    "###Only redeploy if new container\n",
    "try:\n",
    "    predictor = estimator.deploy(1, instance_type=\"ml.g4dn.xlarge\", endpoint_name=\"table-qa-001\")\n",
    "    print(\"Endpoint deployment successful.\")\n",
    "except Exception as e:\n",
    "    print(\"Endpoint deployment failed:\", str(e))\n"
   ]
  },
  {
   "cell_type": "code",
   "execution_count": null,
   "id": "62fdd321",
   "metadata": {},
   "outputs": [],
   "source": [
    "import boto3\n",
    "\n",
    "# Specify the SageMaker endpoint and autoscaling configuration details\n",
    "endpoint_name = 'table-qa-001'\n",
    "min_capacity = 1\n",
    "max_capacity = 5\n",
    "target_value = 70\n",
    "scale_in_cooldown = 60\n",
    "scale_out_cooldown = 60\n",
    "\n",
    "# Create a SageMaker client\n",
    "sagemaker_client = boto3.client('sagemaker')\n",
    "\n",
    "# Get the current endpoint configuration\n",
    "response = sagemaker_client.describe_endpoint(EndpointName=endpoint_name)\n",
    "endpoint_config_name = response['EndpointConfigName']\n",
    "\n",
    "# Create or update the autoscaling configuration\n",
    "autoscaling_config = {\n",
    "    'AutoScalingEnabled': True,\n",
    "    'MinCapacity': min_capacity,\n",
    "    'MaxCapacity': max_capacity,\n",
    "    'TargetValue': target_value,\n",
    "    'ScaleInCooldown': scale_in_cooldown,\n",
    "    'ScaleOutCooldown': scale_out_cooldown\n",
    "}\n",
    "\n",
    "sagemaker_client.update_endpoint(\n",
    "    EndpointName=endpoint_name,\n",
    "    EndpointConfigName=endpoint_config_name,\n",
    "    RetainAllVariantProperties=True,\n",
    "    ExcludeRetainedVariantProperties=['InitialInstanceCount', 'InitialVariantWeight'],\n",
    "    InferenceSchedulerArn=response.get('InferenceSchedulerArn'),\n",
    "    Tags=response.get('Tags'),\n",
    "    AutoScalingType='TargetTrackingScaling',\n",
    "    TargetTrackingScalingPolicyConfiguration=autoscaling_config\n",
    ")\n",
    "\n",
    "print(\"Autoscaling configured successfully for the SageMaker endpoint.\")\n"
   ]
  },
  {
   "attachments": {},
   "cell_type": "markdown",
   "id": "a491d972",
   "metadata": {},
   "source": [
    "The above code works for when a model does not exist but you want to deploy it for the first time. Just for posterity I have included code to instead show how to take an ECR \n",
    "\n",
    "hosted container, make a sagemaker model artefact from it, from that generate a new endpoint config and then update the endpoint with the new container."
   ]
  },
  {
   "cell_type": "code",
   "execution_count": null,
   "id": "21a6ad27",
   "metadata": {},
   "outputs": [],
   "source": [
    "import boto3\n",
    "# Specify the details of the ECR container\n",
    "container_image_uri = 'ecr-container-image-uri'\n",
    "\n",
    "# Create a SageMaker client\n",
    "sagemaker_client = boto3.client('sagemaker')\n",
    "\n",
    "# Create a new SageMaker model using the ECR container image\n",
    "model_name = 'tableqa-tapas-0002'\n",
    "primary_container = {\n",
    "    'Image': container_image_uri,\n",
    "    'ModelDataUrl': '<any_dummy_data_path_to_a_blank_s3_text_file' #Sagemaker wants a model arefact path but we use transformers to inject model\n",
    "}\n",
    "response = sagemaker_client.create_model(ModelName=model_name, ExecutionRoleArn='your-role-arn', PrimaryContainer=primary_container)\n",
    "\n",
    "# Create a new SageMaker endpoint configuration\n",
    "endpoint_config_name = 'tapas-model-endpoint-config'\n",
    "response = sagemaker_client.create_endpoint_config(\n",
    "    EndpointConfigName=endpoint_config_name,\n",
    "    ProductionVariants=[\n",
    "        {\n",
    "            'VariantName': 'tapas-variant-002',\n",
    "            'ModelName': model_name,\n",
    "            'InitialInstanceCount': 1,\n",
    "            'InstanceType': 'ml.g4dn.xlarge'  # Specify the desired instance type\n",
    "        }\n",
    "    ]\n",
    ")\n",
    "\n",
    "# Update the existing endpoint with the new endpoint configuration\n",
    "response = sagemaker_client.update_endpoint(\n",
    "    EndpointName=endpoint_name,\n",
    "    EndpointConfigName=endpoint_config_name\n",
    ")\n",
    "\n",
    "print(\"Endpoint updated with the new configuration.\")\n"
   ]
  },
  {
   "attachments": {},
   "cell_type": "markdown",
   "id": "c4279ae3",
   "metadata": {},
   "source": [
    "Quick example showing how to use the sagemaker client to query our new existing endpoint"
   ]
  },
  {
   "cell_type": "code",
   "execution_count": null,
   "id": "af809759",
   "metadata": {},
   "outputs": [],
   "source": [
    "import boto3\n",
    "import json\n",
    "\n",
    "# Specify the endpoint name and JSON payload\n",
    "endpoint_name = 'table-qa-001'\n",
    "json_payload = {\"questions\": [\"which actor has the last name Pitt\"],\"table\": {\"Actors\": [\"Brad Pitt\", \"Leonardo Di Caprio\", \"George Clooney\"], \"Number of movies\": [\"87\", \"53\", \"69\"]}}\n",
    "\n",
    "\n",
    "# Create a SageMaker runtime client\n",
    "runtime_client = boto3.client('sagemaker-runtime')\n",
    "\n",
    "# Convert the JSON payload to a string\n",
    "payload_string = json.dumps(json_payload)\n",
    "\n",
    "# Invoke the endpoint with the JSON payload\n",
    "response = runtime_client.invoke_endpoint(\n",
    "    EndpointName=endpoint_name,\n",
    "    ContentType='application/json',\n",
    "    Body=payload_string\n",
    ")\n",
    "\n",
    "# Parse the response\n",
    "response_body = response['Body'].read()\n",
    "response_json = json.loads(response_body)\n",
    "\n",
    "# Process the response as needed\n",
    "print(response_json)\n"
   ]
  }
 ],
 "metadata": {
  "kernelspec": {
   "display_name": "pytorch_test",
   "language": "python",
   "name": "python3"
  },
  "language_info": {
   "codemirror_mode": {
    "name": "ipython",
    "version": 3
   },
   "file_extension": ".py",
   "mimetype": "text/x-python",
   "name": "python",
   "nbconvert_exporter": "python",
   "pygments_lexer": "ipython3",
   "version": "3.9.16"
  }
 },
 "nbformat": 4,
 "nbformat_minor": 5
}
